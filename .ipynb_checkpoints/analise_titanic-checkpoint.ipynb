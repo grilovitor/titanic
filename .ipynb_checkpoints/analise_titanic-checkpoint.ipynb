{
 "cells": [
  {
   "cell_type": "markdown",
   "metadata": {},
   "source": [
    "A base de dados estudada neste documento foi retirada do Kaggle, no desafio [`Titanic: Machine Learning from Disaster`](https://www.kaggle.com/c/titanic).\n",
    "O objetivo deste documento é desenvolver um modelo para predizer quais pessoas sobreviveram ao desastre conforme características de cada indivíduo.\n",
    "\n",
    "#### Descrição das Variáveis\n",
    "- `PassengerId`: Id do Passageiro;\n",
    "- `Survived`: Variável binária que indica se o passageiro sobreviveu (1 = Sim e 0 = Não);\n",
    "- `Pclass`: Classe do ticket do passageiro (1 = 1st, 2 = 2nd, 3 = 3rd). Essa variável é uma aproximação para o status socio-economico do passageiro;\n",
    "- `Name`: Nome do Passageiro;\n",
    "- `Sex`: Sexo do Passageiro;\n",
    "- `Sibsp`: Idade do Passageiro;\n",
    "- `SibSp`: Quantidade de irmãos e/ou cônjuges a bordo do titanic;\n",
    "- `Parch`: Quantidade de pais e/ou filhos a bordo do titanic;\n",
    "- `Ticket`: Número do Ticket;\n",
    "- `Fare`: Tarifa paga pelo passageiro;\n",
    "- `Cabin`: Número da Cabine;\n",
    "- `Embarked`: Porto no qual o passageiro embarcou (C = Cherbourg, Q = Queenstown, S = Southampton)."
   ]
  },
  {
   "cell_type": "markdown",
   "metadata": {},
   "source": [
    "### Configuração do Notebook"
   ]
  },
  {
   "cell_type": "code",
   "execution_count": 4,
   "metadata": {},
   "outputs": [],
   "source": [
    "import pandas as pd\n",
    "import numpy as np\n",
    "import matplotlib.pyplot as plt\n",
    "import matplotlib.ticker as ticker\n",
    "import seaborn as sns"
   ]
  },
  {
   "cell_type": "markdown",
   "metadata": {},
   "source": [
    "### Leitura da Base"
   ]
  },
  {
   "cell_type": "code",
   "execution_count": 5,
   "metadata": {},
   "outputs": [],
   "source": [
    "df_train = pd.read_csv(\"train.csv\")"
   ]
  },
  {
   "cell_type": "code",
   "execution_count": 6,
   "metadata": {},
   "outputs": [
    {
     "data": {
      "text/html": [
       "<div>\n",
       "<style scoped>\n",
       "    .dataframe tbody tr th:only-of-type {\n",
       "        vertical-align: middle;\n",
       "    }\n",
       "\n",
       "    .dataframe tbody tr th {\n",
       "        vertical-align: top;\n",
       "    }\n",
       "\n",
       "    .dataframe thead th {\n",
       "        text-align: right;\n",
       "    }\n",
       "</style>\n",
       "<table border=\"1\" class=\"dataframe\">\n",
       "  <thead>\n",
       "    <tr style=\"text-align: right;\">\n",
       "      <th></th>\n",
       "      <th>PassengerId</th>\n",
       "      <th>Survived</th>\n",
       "      <th>Pclass</th>\n",
       "      <th>Name</th>\n",
       "      <th>Sex</th>\n",
       "      <th>Age</th>\n",
       "      <th>SibSp</th>\n",
       "      <th>Parch</th>\n",
       "      <th>Ticket</th>\n",
       "      <th>Fare</th>\n",
       "      <th>Cabin</th>\n",
       "      <th>Embarked</th>\n",
       "    </tr>\n",
       "  </thead>\n",
       "  <tbody>\n",
       "    <tr>\n",
       "      <th>0</th>\n",
       "      <td>1</td>\n",
       "      <td>0</td>\n",
       "      <td>3</td>\n",
       "      <td>Braund, Mr. Owen Harris</td>\n",
       "      <td>male</td>\n",
       "      <td>22.0</td>\n",
       "      <td>1</td>\n",
       "      <td>0</td>\n",
       "      <td>A/5 21171</td>\n",
       "      <td>7.2500</td>\n",
       "      <td>NaN</td>\n",
       "      <td>S</td>\n",
       "    </tr>\n",
       "    <tr>\n",
       "      <th>1</th>\n",
       "      <td>2</td>\n",
       "      <td>1</td>\n",
       "      <td>1</td>\n",
       "      <td>Cumings, Mrs. John Bradley (Florence Briggs Th...</td>\n",
       "      <td>female</td>\n",
       "      <td>38.0</td>\n",
       "      <td>1</td>\n",
       "      <td>0</td>\n",
       "      <td>PC 17599</td>\n",
       "      <td>71.2833</td>\n",
       "      <td>C85</td>\n",
       "      <td>C</td>\n",
       "    </tr>\n",
       "    <tr>\n",
       "      <th>2</th>\n",
       "      <td>3</td>\n",
       "      <td>1</td>\n",
       "      <td>3</td>\n",
       "      <td>Heikkinen, Miss. Laina</td>\n",
       "      <td>female</td>\n",
       "      <td>26.0</td>\n",
       "      <td>0</td>\n",
       "      <td>0</td>\n",
       "      <td>STON/O2. 3101282</td>\n",
       "      <td>7.9250</td>\n",
       "      <td>NaN</td>\n",
       "      <td>S</td>\n",
       "    </tr>\n",
       "    <tr>\n",
       "      <th>3</th>\n",
       "      <td>4</td>\n",
       "      <td>1</td>\n",
       "      <td>1</td>\n",
       "      <td>Futrelle, Mrs. Jacques Heath (Lily May Peel)</td>\n",
       "      <td>female</td>\n",
       "      <td>35.0</td>\n",
       "      <td>1</td>\n",
       "      <td>0</td>\n",
       "      <td>113803</td>\n",
       "      <td>53.1000</td>\n",
       "      <td>C123</td>\n",
       "      <td>S</td>\n",
       "    </tr>\n",
       "    <tr>\n",
       "      <th>4</th>\n",
       "      <td>5</td>\n",
       "      <td>0</td>\n",
       "      <td>3</td>\n",
       "      <td>Allen, Mr. William Henry</td>\n",
       "      <td>male</td>\n",
       "      <td>35.0</td>\n",
       "      <td>0</td>\n",
       "      <td>0</td>\n",
       "      <td>373450</td>\n",
       "      <td>8.0500</td>\n",
       "      <td>NaN</td>\n",
       "      <td>S</td>\n",
       "    </tr>\n",
       "  </tbody>\n",
       "</table>\n",
       "</div>"
      ],
      "text/plain": [
       "   PassengerId  Survived  Pclass  \\\n",
       "0            1         0       3   \n",
       "1            2         1       1   \n",
       "2            3         1       3   \n",
       "3            4         1       1   \n",
       "4            5         0       3   \n",
       "\n",
       "                                                Name     Sex   Age  SibSp  \\\n",
       "0                            Braund, Mr. Owen Harris    male  22.0      1   \n",
       "1  Cumings, Mrs. John Bradley (Florence Briggs Th...  female  38.0      1   \n",
       "2                             Heikkinen, Miss. Laina  female  26.0      0   \n",
       "3       Futrelle, Mrs. Jacques Heath (Lily May Peel)  female  35.0      1   \n",
       "4                           Allen, Mr. William Henry    male  35.0      0   \n",
       "\n",
       "   Parch            Ticket     Fare Cabin Embarked  \n",
       "0      0         A/5 21171   7.2500   NaN        S  \n",
       "1      0          PC 17599  71.2833   C85        C  \n",
       "2      0  STON/O2. 3101282   7.9250   NaN        S  \n",
       "3      0            113803  53.1000  C123        S  \n",
       "4      0            373450   8.0500   NaN        S  "
      ]
     },
     "execution_count": 6,
     "metadata": {},
     "output_type": "execute_result"
    }
   ],
   "source": [
    "df_train.head()"
   ]
  },
  {
   "cell_type": "code",
   "execution_count": 7,
   "metadata": {},
   "outputs": [
    {
     "name": "stdout",
     "output_type": "stream",
     "text": [
      "Número de registros: 891\n",
      "Número de features: 12\n"
     ]
    }
   ],
   "source": [
    "print (\"Número de registros:\", df_train['Survived'].count())\n",
    "print (\"Número de features:\", len(df_train.columns))"
   ]
  },
  {
   "cell_type": "markdown",
   "metadata": {},
   "source": [
    "### Higienização da Base"
   ]
  },
  {
   "cell_type": "code",
   "execution_count": 8,
   "metadata": {},
   "outputs": [],
   "source": [
    "#Retirada de variaveis que nao serão uteis para o estudo\n",
    "df_train = df_train.drop([\"PassengerId\", 'Name', 'Ticket', 'Cabin'], axis=1)"
   ]
  },
  {
   "cell_type": "code",
   "execution_count": 9,
   "metadata": {
    "scrolled": false
   },
   "outputs": [
    {
     "data": {
      "text/plain": [
       "Survived    712\n",
       "Pclass      712\n",
       "Sex         712\n",
       "Age         712\n",
       "SibSp       712\n",
       "Parch       712\n",
       "Fare        712\n",
       "Embarked    712\n",
       "dtype: int64"
      ]
     },
     "execution_count": 9,
     "metadata": {},
     "output_type": "execute_result"
    }
   ],
   "source": [
    "#Retirada de valores nulos\n",
    "df_train = df_train.dropna()\n",
    "df_train.count()"
   ]
  },
  {
   "cell_type": "code",
   "execution_count": 13,
   "metadata": {},
   "outputs": [],
   "source": [
    "#Alterando a parametrizacao da variavel sex: 1 para homem e 2 para mulher.\n",
    "\n",
    "sex_transf = []\n",
    "for x in df_train['Sex']:\n",
    "  if x == 'male': \n",
    "    sex_transf.append(1) \n",
    "  else: sex_transf.append(2)"
   ]
  },
  {
   "cell_type": "code",
   "execution_count": 16,
   "metadata": {},
   "outputs": [],
   "source": [
    "df_train['Sex'] = sex_transf"
   ]
  },
  {
   "cell_type": "code",
   "execution_count": 38,
   "metadata": {},
   "outputs": [],
   "source": [
    "#Alterando a parametrizacao da variavel Embarked: 1 = Cherbourg, 2 = Queenstown, 3 = Southampton.\n",
    "\n",
    "embarked_transf = []\n",
    "for x in df_train['Embarked']:\n",
    "  if x == 'C': \n",
    "    embarked_transf.append(1) \n",
    "  elif x == 'Q':\n",
    "    embarked_transf.append(2)\n",
    "  else:\n",
    "    embarked_transf.append(3)"
   ]
  },
  {
   "cell_type": "code",
   "execution_count": 39,
   "metadata": {},
   "outputs": [],
   "source": [
    "df_train['Embarked'] = embarked_transf"
   ]
  },
  {
   "cell_type": "markdown",
   "metadata": {},
   "source": [
    "## Análise de Variáveis"
   ]
  },
  {
   "cell_type": "markdown",
   "metadata": {},
   "source": [
    "### Survived"
   ]
  },
  {
   "cell_type": "code",
   "execution_count": 84,
   "metadata": {},
   "outputs": [
    {
     "data": {
      "text/plain": [
       "count    712.000000\n",
       "mean       0.404494\n",
       "std        0.491139\n",
       "min        0.000000\n",
       "25%        0.000000\n",
       "50%        0.000000\n",
       "75%        1.000000\n",
       "max        1.000000\n",
       "Name: Survived, dtype: float64"
      ]
     },
     "execution_count": 84,
     "metadata": {},
     "output_type": "execute_result"
    }
   ],
   "source": [
    "df_train['Survived'].describe()"
   ]
  },
  {
   "cell_type": "code",
   "execution_count": 86,
   "metadata": {},
   "outputs": [
    {
     "data": {
      "image/png": "[encoded data removed]",
      "text/plain": [
       "<Figure size 972x360 with 1 Axes>"
      ]
     },
     "metadata": {
      "needs_background": "light"
     },
     "output_type": "display_data"
    }
   ],
   "source": [
    "#cria subplot\n",
    "_, axes = plt.subplots(1, 1, figsize=(13.5, 5))\n",
    "#axes = axes.flatten()\n",
    "\n",
    "#produz o plot\n",
    "nbins = np.histogram(df_train['Survived'], bins=20)[1]\n",
    "axes.hist(df_train['Survived'], bins=nbins, density=True, label='Todos os passageiros')\n",
    "axes.set_title('Histograma da variável Survived')\n",
    "axes.legend()\n",
    "\n",
    "#exibe o plot\n",
    "plt.show()"
   ]
  },
  {
   "cell_type": "markdown",
   "metadata": {},
   "source": [
    "### Pclass"
   ]
  },
  {
   "cell_type": "code",
   "execution_count": 66,
   "metadata": {},
   "outputs": [
    {
     "data": {
      "text/plain": [
       "count    712.000000\n",
       "mean       2.240169\n",
       "std        0.836854\n",
       "min        1.000000\n",
       "25%        1.000000\n",
       "50%        2.000000\n",
       "75%        3.000000\n",
       "max        3.000000\n",
       "Name: Pclass, dtype: float64"
      ]
     },
     "execution_count": 66,
     "metadata": {},
     "output_type": "execute_result"
    }
   ],
   "source": [
    "df_train['Pclass'].describe()"
   ]
  },
  {
   "cell_type": "markdown",
   "metadata": {},
   "source": [
    "#### Univariada"
   ]
  },
  {
   "cell_type": "code",
   "execution_count": 63,
   "metadata": {},
   "outputs": [
    {
     "data": {
      "image/png": "[encoded data removed]",
      "text/plain": [
       "<Figure size 972x360 with 1 Axes>"
      ]
     },
     "metadata": {
      "needs_background": "light"
     },
     "output_type": "display_data"
    }
   ],
   "source": [
    "#cria subplot\n",
    "_, axes = plt.subplots(1, 1, figsize=(13.5, 5))\n",
    "#axes = axes.flatten()\n",
    "\n",
    "#produz o plot\n",
    "nbins = np.histogram(df_train['Pclass'], bins=20)[1]\n",
    "axes.hist(df_train['Pclass'], bins=nbins, density=True, label='Todos os passageiros')\n",
    "axes.set_title('Histograma da variável Pclass')\n",
    "axes.legend()\n",
    "\n",
    "#exibe o plot\n",
    "plt.show()"
   ]
  },
  {
   "cell_type": "markdown",
   "metadata": {},
   "source": [
    "#### Bivariada"
   ]
  },
  {
   "cell_type": "code",
   "execution_count": 83,
   "metadata": {
    "scrolled": false
   },
   "outputs": [
    {
     "data": {
      "image/png": "[encoded data removed]",
      "text/plain": [
       "<Figure size 972x360 with 1 Axes>"
      ]
     },
     "metadata": {
      "needs_background": "light"
     },
     "output_type": "display_data"
    }
   ],
   "source": [
    "#cria subplot\n",
    "_, axes = plt.subplots(1, 1, figsize=(13.5, 5))\n",
    "#axes = axes.flatten()\n",
    "\n",
    "#produz o plot\n",
    "nbins = np.histogram(df_train['Pclass'], bins=20)[1]\n",
    "axes.hist(df_train.loc[df_train['Survived'] == 1]['Pclass'], bins=nbins, density=True, label='Não sobreviveu', color='#fffe7a', \n",
    "          edgecolor='k', alpha=1)\n",
    "axes.hist(df_train.loc[df_train['Survived'] == 0]['Pclass'], bins=nbins, density=True, label='Sobreviveu', \n",
    "          edgecolor='k', alpha=0.6)\n",
    "axes.set_title('Histograma da variável Pclass')\n",
    "axes.legend()\n",
    "\n",
    "#exibe o plot\n",
    "plt.show()"
   ]
  },
  {
   "cell_type": "markdown",
   "metadata": {},
   "source": [
    "### Sex"
   ]
  },
  {
   "cell_type": "code",
   "execution_count": 19,
   "metadata": {},
   "outputs": [
    {
     "data": {
      "text/plain": [
       "count    712.000000\n",
       "mean       1.363764\n",
       "std        0.481420\n",
       "min        1.000000\n",
       "25%        1.000000\n",
       "50%        1.000000\n",
       "75%        2.000000\n",
       "max        2.000000\n",
       "Name: Sex, dtype: float64"
      ]
     },
     "execution_count": 19,
     "metadata": {},
     "output_type": "execute_result"
    }
   ],
   "source": [
    "df_train['Sex'].describe()"
   ]
  },
  {
   "cell_type": "markdown",
   "metadata": {},
   "source": [
    "#### Univariada"
   ]
  },
  {
   "cell_type": "code",
   "execution_count": 21,
   "metadata": {},
   "outputs": [
    {
     "data": {
      "image/png": "[encoded data removed]",
      "text/plain": [
       "<Figure size 972x360 with 1 Axes>"
      ]
     },
     "metadata": {
      "needs_background": "light"
     },
     "output_type": "display_data"
    }
   ],
   "source": [
    "#cria subplot\n",
    "_, axes = plt.subplots(1, 1, figsize=(13.5, 5))\n",
    "#axes = axes.flatten()\n",
    "\n",
    "#produz o plot\n",
    "nbins = np.histogram(df_train['Sex'], bins=20)[1]\n",
    "axes.hist(df_train['Sex'], bins=nbins, density=True, label='Todos os passageiros')\n",
    "axes.set_title('Histograma da variável Sex')\n",
    "axes.legend()\n",
    "\n",
    "#exibe o plot\n",
    "plt.show()"
   ]
  },
  {
   "cell_type": "markdown",
   "metadata": {},
   "source": [
    "#### Bivariada"
   ]
  },
  {
   "cell_type": "code",
   "execution_count": 22,
   "metadata": {
    "scrolled": true
   },
   "outputs": [
    {
     "data": {
      "image/png": "[encoded data removed]",
      "text/plain": [
       "<Figure size 972x360 with 1 Axes>"
      ]
     },
     "metadata": {
      "needs_background": "light"
     },
     "output_type": "display_data"
    }
   ],
   "source": [
    "#cria subplot\n",
    "_, axes = plt.subplots(1, 1, figsize=(13.5, 5))\n",
    "#axes = axes.flatten()\n",
    "\n",
    "#produz o plot\n",
    "nbins = np.histogram(df_train['Sex'], bins=20)[1]\n",
    "axes.hist(df_train.loc[df_train['Survived'] == 1]['Sex'], bins=nbins, density=True, label='Não sobreviveu', color='#fffe7a', \n",
    "          edgecolor='k', alpha=1)\n",
    "axes.hist(df_train.loc[df_train['Survived'] == 0]['Sex'], bins=nbins, density=True, label='Sobreviveu', \n",
    "          edgecolor='k', alpha=0.6)\n",
    "axes.set_title('Histograma da variável Sex')\n",
    "axes.legend()\n",
    "\n",
    "#exibe o plot\n",
    "plt.show()"
   ]
  },
  {
   "cell_type": "markdown",
   "metadata": {},
   "source": [
    "### Age"
   ]
  },
  {
   "cell_type": "code",
   "execution_count": 23,
   "metadata": {},
   "outputs": [
    {
     "data": {
      "text/plain": [
       "count    712.000000\n",
       "mean      29.642093\n",
       "std       14.492933\n",
       "min        0.420000\n",
       "25%       20.000000\n",
       "50%       28.000000\n",
       "75%       38.000000\n",
       "max       80.000000\n",
       "Name: Age, dtype: float64"
      ]
     },
     "execution_count": 23,
     "metadata": {},
     "output_type": "execute_result"
    }
   ],
   "source": [
    "df_train['Age'].describe()"
   ]
  },
  {
   "cell_type": "markdown",
   "metadata": {},
   "source": [
    "#### Univariada"
   ]
  },
  {
   "cell_type": "code",
   "execution_count": 26,
   "metadata": {},
   "outputs": [
    {
     "data": {
      "image/png": "[encoded data removed]",
      "text/plain": [
       "<Figure size 972x360 with 1 Axes>"
      ]
     },
     "metadata": {
      "needs_background": "light"
     },
     "output_type": "display_data"
    }
   ],
   "source": [
    "#cria subplot\n",
    "_, axes = plt.subplots(1, 1, figsize=(13.5, 5))\n",
    "#axes = axes.flatten()\n",
    "\n",
    "#produz o plot\n",
    "nbins = np.histogram(df_train['Age'], bins=25)[1]\n",
    "axes.hist(df_train['Age'], bins=nbins, density=True, label='Todos os passageiros')\n",
    "axes.set_title('Histograma da variável Age')\n",
    "axes.legend()\n",
    "\n",
    "#exibe o plot\n",
    "plt.show()"
   ]
  },
  {
   "cell_type": "markdown",
   "metadata": {},
   "source": [
    "#### Bivariada"
   ]
  },
  {
   "cell_type": "code",
   "execution_count": 27,
   "metadata": {
    "scrolled": false
   },
   "outputs": [
    {
     "data": {
      "image/png": "[encoded data removed]",
      "text/plain": [
       "<Figure size 972x360 with 1 Axes>"
      ]
     },
     "metadata": {
      "needs_background": "light"
     },
     "output_type": "display_data"
    }
   ],
   "source": [
    "#cria subplot\n",
    "_, axes = plt.subplots(1, 1, figsize=(13.5, 5))\n",
    "#axes = axes.flatten()\n",
    "\n",
    "#produz o plot\n",
    "nbins = np.histogram(df_train['Age'], bins=25)[1]\n",
    "axes.hist(df_train.loc[df_train['Survived'] == 1]['Age'], bins=nbins, density=True, label='Não sobreviveu', color='#fffe7a', \n",
    "          edgecolor='k', alpha=1)\n",
    "axes.hist(df_train.loc[df_train['Survived'] == 0]['Age'], bins=nbins, density=True, label='Sobreviveu', \n",
    "          edgecolor='k', alpha=0.6)\n",
    "axes.set_title('Histograma da variável Age')\n",
    "axes.legend()\n",
    "\n",
    "#exibe o plot\n",
    "plt.show()"
   ]
  },
  {
   "cell_type": "markdown",
   "metadata": {},
   "source": [
    "### SibSp"
   ]
  },
  {
   "cell_type": "code",
   "execution_count": 28,
   "metadata": {},
   "outputs": [
    {
     "data": {
      "text/plain": [
       "count    712.000000\n",
       "mean       0.514045\n",
       "std        0.930692\n",
       "min        0.000000\n",
       "25%        0.000000\n",
       "50%        0.000000\n",
       "75%        1.000000\n",
       "max        5.000000\n",
       "Name: SibSp, dtype: float64"
      ]
     },
     "execution_count": 28,
     "metadata": {},
     "output_type": "execute_result"
    }
   ],
   "source": [
    "df_train['SibSp'].describe()"
   ]
  },
  {
   "cell_type": "markdown",
   "metadata": {},
   "source": [
    "#### Univariada"
   ]
  },
  {
   "cell_type": "code",
   "execution_count": 29,
   "metadata": {},
   "outputs": [
    {
     "data": {
      "image/png": "[encoded data removed]",
      "text/plain": [
       "<Figure size 972x360 with 1 Axes>"
      ]
     },
     "metadata": {
      "needs_background": "light"
     },
     "output_type": "display_data"
    }
   ],
   "source": [
    "#cria subplot\n",
    "_, axes = plt.subplots(1, 1, figsize=(13.5, 5))\n",
    "#axes = axes.flatten()\n",
    "\n",
    "#produz o plot\n",
    "nbins = np.histogram(df_train['SibSp'], bins=20)[1]\n",
    "axes.hist(df_train['SibSp'], bins=nbins, density=True, label='Todos os passageiros')\n",
    "axes.set_title('Histograma da variável SibSp')\n",
    "axes.legend()\n",
    "\n",
    "#exibe o plot\n",
    "plt.show()"
   ]
  },
  {
   "cell_type": "markdown",
   "metadata": {},
   "source": [
    "#### Bivariada"
   ]
  },
  {
   "cell_type": "code",
   "execution_count": 30,
   "metadata": {
    "scrolled": true
   },
   "outputs": [
    {
     "data": {
      "image/png": "[encoded data removed]",
      "text/plain": [
       "<Figure size 972x360 with 1 Axes>"
      ]
     },
     "metadata": {
      "needs_background": "light"
     },
     "output_type": "display_data"
    }
   ],
   "source": [
    "#cria subplot\n",
    "_, axes = plt.subplots(1, 1, figsize=(13.5, 5))\n",
    "#axes = axes.flatten()\n",
    "\n",
    "#produz o plot\n",
    "nbins = np.histogram(df_train['SibSp'], bins=20)[1]\n",
    "axes.hist(df_train.loc[df_train['Survived'] == 1]['SibSp'], bins=nbins, density=True, label='Não sobreviveu', color='#fffe7a', \n",
    "          edgecolor='k', alpha=1)\n",
    "axes.hist(df_train.loc[df_train['Survived'] == 0]['SibSp'], bins=nbins, density=True, label='Sobreviveu', \n",
    "          edgecolor='k', alpha=0.6)\n",
    "axes.set_title('Histograma da variável SibSp')\n",
    "axes.legend()\n",
    "\n",
    "#exibe o plot\n",
    "plt.show()"
   ]
  },
  {
   "cell_type": "markdown",
   "metadata": {},
   "source": [
    "### Parch"
   ]
  },
  {
   "cell_type": "code",
   "execution_count": 31,
   "metadata": {},
   "outputs": [
    {
     "data": {
      "text/plain": [
       "count    712.000000\n",
       "mean       0.432584\n",
       "std        0.854181\n",
       "min        0.000000\n",
       "25%        0.000000\n",
       "50%        0.000000\n",
       "75%        1.000000\n",
       "max        6.000000\n",
       "Name: Parch, dtype: float64"
      ]
     },
     "execution_count": 31,
     "metadata": {},
     "output_type": "execute_result"
    }
   ],
   "source": [
    "df_train['Parch'].describe()"
   ]
  },
  {
   "cell_type": "markdown",
   "metadata": {},
   "source": [
    "#### Univariada"
   ]
  },
  {
   "cell_type": "code",
   "execution_count": 32,
   "metadata": {},
   "outputs": [
    {
     "data": {
      "image/png": "[encoded data removed]",
      "text/plain": [
       "<Figure size 972x360 with 1 Axes>"
      ]
     },
     "metadata": {
      "needs_background": "light"
     },
     "output_type": "display_data"
    }
   ],
   "source": [
    "#cria subplot\n",
    "_, axes = plt.subplots(1, 1, figsize=(13.5, 5))\n",
    "#axes = axes.flatten()\n",
    "\n",
    "#produz o plot\n",
    "nbins = np.histogram(df_train['Parch'], bins=20)[1]\n",
    "axes.hist(df_train['Parch'], bins=nbins, density=True, label='Todos os passageiros')\n",
    "axes.set_title('Histograma da variável Parch')\n",
    "axes.legend()\n",
    "\n",
    "#exibe o plot\n",
    "plt.show()"
   ]
  },
  {
   "cell_type": "markdown",
   "metadata": {},
   "source": [
    "#### Bivariada"
   ]
  },
  {
   "cell_type": "code",
   "execution_count": 33,
   "metadata": {
    "scrolled": false
   },
   "outputs": [
    {
     "data": {
      "image/png": "[encoded data removed]",
      "text/plain": [
       "<Figure size 972x360 with 1 Axes>"
      ]
     },
     "metadata": {
      "needs_background": "light"
     },
     "output_type": "display_data"
    }
   ],
   "source": [
    "#cria subplot\n",
    "_, axes = plt.subplots(1, 1, figsize=(13.5, 5))\n",
    "#axes = axes.flatten()\n",
    "\n",
    "#produz o plot\n",
    "nbins = np.histogram(df_train['Parch'], bins=20)[1]\n",
    "axes.hist(df_train.loc[df_train['Survived'] == 1]['Parch'], bins=nbins, density=True, label='Não sobreviveu', color='#fffe7a', \n",
    "          edgecolor='k', alpha=1)\n",
    "axes.hist(df_train.loc[df_train['Survived'] == 0]['Parch'], bins=nbins, density=True, label='Sobreviveu', \n",
    "          edgecolor='k', alpha=0.6)\n",
    "axes.set_title('Histograma da variável Parch')\n",
    "axes.legend()\n",
    "\n",
    "#exibe o plot\n",
    "plt.show()"
   ]
  },
  {
   "cell_type": "markdown",
   "metadata": {},
   "source": [
    "### Fare"
   ]
  },
  {
   "cell_type": "code",
   "execution_count": 34,
   "metadata": {},
   "outputs": [
    {
     "data": {
      "text/plain": [
       "count    712.000000\n",
       "mean      34.567251\n",
       "std       52.938648\n",
       "min        0.000000\n",
       "25%        8.050000\n",
       "50%       15.645850\n",
       "75%       33.000000\n",
       "max      512.329200\n",
       "Name: Fare, dtype: float64"
      ]
     },
     "execution_count": 34,
     "metadata": {},
     "output_type": "execute_result"
    }
   ],
   "source": [
    "df_train['Fare'].describe()"
   ]
  },
  {
   "cell_type": "markdown",
   "metadata": {},
   "source": [
    "#### Univariada"
   ]
  },
  {
   "cell_type": "code",
   "execution_count": 35,
   "metadata": {},
   "outputs": [
    {
     "data": {
      "image/png": "[encoded data removed]",
      "text/plain": [
       "<Figure size 972x360 with 1 Axes>"
      ]
     },
     "metadata": {
      "needs_background": "light"
     },
     "output_type": "display_data"
    }
   ],
   "source": [
    "#cria subplot\n",
    "_, axes = plt.subplots(1, 1, figsize=(13.5, 5))\n",
    "#axes = axes.flatten()\n",
    "\n",
    "#produz o plot\n",
    "nbins = np.histogram(df_train['Fare'], bins=20)[1]\n",
    "axes.hist(df_train['Fare'], bins=nbins, density=True, label='Todos os passageiros')\n",
    "axes.set_title('Histograma da variável Fare')\n",
    "axes.legend()\n",
    "\n",
    "#exibe o plot\n",
    "plt.show()"
   ]
  },
  {
   "cell_type": "markdown",
   "metadata": {},
   "source": [
    "#### Bivariada"
   ]
  },
  {
   "cell_type": "code",
   "execution_count": 36,
   "metadata": {
    "scrolled": false
   },
   "outputs": [
    {
     "data": {
      "image/png": "[encoded data removed]",
      "text/plain": [
       "<Figure size 972x360 with 1 Axes>"
      ]
     },
     "metadata": {
      "needs_background": "light"
     },
     "output_type": "display_data"
    }
   ],
   "source": [
    "#cria subplot\n",
    "_, axes = plt.subplots(1, 1, figsize=(13.5, 5))\n",
    "#axes = axes.flatten()\n",
    "\n",
    "#produz o plot\n",
    "nbins = np.histogram(df_train['Fare'], bins=20)[1]\n",
    "axes.hist(df_train.loc[df_train['Survived'] == 1]['Fare'], bins=nbins, density=True, label='Não sobreviveu', color='#fffe7a', \n",
    "          edgecolor='k', alpha=1)\n",
    "axes.hist(df_train.loc[df_train['Survived'] == 0]['Fare'], bins=nbins, density=True, label='Sobreviveu', \n",
    "          edgecolor='k', alpha=0.6)\n",
    "axes.set_title('Histograma da variável Fare')\n",
    "axes.legend()\n",
    "\n",
    "#exibe o plot\n",
    "plt.show()"
   ]
  },
  {
   "cell_type": "markdown",
   "metadata": {},
   "source": [
    "### Embarked"
   ]
  },
  {
   "cell_type": "code",
   "execution_count": 41,
   "metadata": {},
   "outputs": [
    {
     "data": {
      "text/plain": [
       "count    712.000000\n",
       "mean       2.595506\n",
       "std        0.779038\n",
       "min        1.000000\n",
       "25%        3.000000\n",
       "50%        3.000000\n",
       "75%        3.000000\n",
       "max        3.000000\n",
       "Name: Embarked, dtype: float64"
      ]
     },
     "execution_count": 41,
     "metadata": {},
     "output_type": "execute_result"
    }
   ],
   "source": [
    "df_train['Embarked'].describe()"
   ]
  },
  {
   "cell_type": "markdown",
   "metadata": {},
   "source": [
    "#### Univariada"
   ]
  },
  {
   "cell_type": "code",
   "execution_count": 42,
   "metadata": {},
   "outputs": [
    {
     "data": {
      "image/png": "[encoded data removed]",
      "text/plain": [
       "<Figure size 972x360 with 1 Axes>"
      ]
     },
     "metadata": {
      "needs_background": "light"
     },
     "output_type": "display_data"
    }
   ],
   "source": [
    "#cria subplot\n",
    "_, axes = plt.subplots(1, 1, figsize=(13.5, 5))\n",
    "#axes = axes.flatten()\n",
    "\n",
    "#produz o plot\n",
    "nbins = np.histogram(df_train['Embarked'], bins=20)[1]\n",
    "axes.hist(df_train['Embarked'], bins=nbins, density=True, label='Todos os passageiros')\n",
    "axes.set_title('Histograma da variável Embarked')\n",
    "axes.legend()\n",
    "\n",
    "#exibe o plot\n",
    "plt.show()"
   ]
  },
  {
   "cell_type": "markdown",
   "metadata": {},
   "source": [
    "#### Bivariada"
   ]
  },
  {
   "cell_type": "code",
   "execution_count": 43,
   "metadata": {
    "scrolled": true
   },
   "outputs": [
    {
     "data": {
      "image/png": "[encoded data removed]",
      "text/plain": [
       "<Figure size 972x360 with 1 Axes>"
      ]
     },
     "metadata": {
      "needs_background": "light"
     },
     "output_type": "display_data"
    }
   ],
   "source": [
    "#cria subplot\n",
    "_, axes = plt.subplots(1, 1, figsize=(13.5, 5))\n",
    "#axes = axes.flatten()\n",
    "\n",
    "#produz o plot\n",
    "nbins = np.histogram(df_train['Embarked'], bins=20)[1]\n",
    "axes.hist(df_train.loc[df_train['Survived'] == 1]['Embarked'], bins=nbins, density=True, label='Não sobreviveu', color='#fffe7a', \n",
    "          edgecolor='k', alpha=1)\n",
    "axes.hist(df_train.loc[df_train['Survived'] == 0]['Embarked'], bins=nbins, density=True, label='Sobreviveu', \n",
    "          edgecolor='k', alpha=0.6)\n",
    "axes.set_title('Histograma da variável Embarked')\n",
    "axes.legend()\n",
    "\n",
    "#exibe o plot\n",
    "plt.show()"
   ]
  },
  {
   "cell_type": "code",
   "execution_count": 47,
   "metadata": {},
   "outputs": [
    {
     "data": {
      "text/plain": [
       "0      1\n",
       "1      4\n",
       "2      4\n",
       "3      4\n",
       "4      1\n",
       "6      1\n",
       "7      1\n",
       "8      4\n",
       "9      4\n",
       "10     4\n",
       "11     4\n",
       "12     1\n",
       "13     1\n",
       "14     4\n",
       "15     4\n",
       "16     1\n",
       "18     4\n",
       "20     1\n",
       "21     1\n",
       "22     4\n",
       "23     1\n",
       "24     4\n",
       "25     4\n",
       "27     1\n",
       "30     1\n",
       "33     1\n",
       "34     1\n",
       "35     1\n",
       "37     1\n",
       "38     4\n",
       "      ..\n",
       "856    4\n",
       "857    1\n",
       "858    4\n",
       "860    1\n",
       "861    1\n",
       "862    4\n",
       "864    1\n",
       "865    4\n",
       "866    4\n",
       "867    1\n",
       "869    1\n",
       "870    1\n",
       "871    4\n",
       "872    1\n",
       "873    1\n",
       "874    4\n",
       "875    4\n",
       "876    1\n",
       "877    1\n",
       "879    4\n",
       "880    4\n",
       "881    1\n",
       "882    4\n",
       "883    1\n",
       "884    1\n",
       "885    4\n",
       "886    1\n",
       "887    4\n",
       "889    1\n",
       "890    1\n",
       "Name: Sex, Length: 712, dtype: int64"
      ]
     },
     "execution_count": 47,
     "metadata": {},
     "output_type": "execute_result"
    }
   ],
   "source": [
    "df_train['Sex'].apply(np.square)"
   ]
  },
  {
   "cell_type": "code",
   "execution_count": null,
   "metadata": {},
   "outputs": [],
   "source": []
  },
  {
   "cell_type": "code",
   "execution_count": null,
   "metadata": {},
   "outputs": [],
   "source": []
  }
 ],
 "metadata": {
  "kernelspec": {
   "display_name": "Python 3",
   "language": "python",
   "name": "python3"
  },
  "language_info": {
   "codemirror_mode": {
    "name": "ipython",
    "version": 3
   },
   "file_extension": ".py",
   "mimetype": "text/x-python",
   "name": "python",
   "nbconvert_exporter": "python",
   "pygments_lexer": "ipython3",
   "version": "3.7.3"
  }
 },
 "nbformat": 4,
 "nbformat_minor": 2
}
